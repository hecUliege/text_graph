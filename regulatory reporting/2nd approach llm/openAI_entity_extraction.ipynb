{
 "cells": [
  {
   "cell_type": "code",
   "execution_count": 1,
   "id": "7c30ebcd-3323-48a7-9ce3-3a68532c4999",
   "metadata": {},
   "outputs": [],
   "source": [
    "# !export OPENAI_API_KEY = key\n",
    "# !pip install openai\n",
    "import pandas as pd\n",
    "from openai import OpenAI\n",
    "import os"
   ]
  },
  {
   "cell_type": "code",
   "execution_count": null,
   "id": "1041a6b9-e323-4ea7-b332-6553a86208bd",
   "metadata": {},
   "outputs": [],
   "source": []
  },
  {
   "cell_type": "code",
   "execution_count": null,
   "id": "4894e5b1-fbc7-4571-8828-ffcbe76a2ff2",
   "metadata": {},
   "outputs": [],
   "source": [
    "\n",
    "\n",
    "key = \"sk-proj-\"\n",
    "\n",
    "client = OpenAI(api_key = key)\n",
    "\n",
    "def extract_entity(sentence):\n",
    "    completion = client.chat.completions.create(\n",
    "    model=\"gpt-4o\",\n",
    "    temperature= 0,\n",
    "    messages = [\n",
    "    {\"role\": \"system\", \"content\": \"\"\"You are a virtual annotation. For each sentence, you annotate the addresser, addressee, actionResult, date. \n",
    "    The output shoulbe be in Json format.\n",
    "    Adresser: Who performs the action.\n",
    "    Action: What action is performed.\n",
    "    ActionResult: What is done.\n",
    "    Addressee: To whom the action is directed.\n",
    "    Date: When the action occurs/deadline.\"\"\"},\n",
    "    \n",
    "    {\"role\": \"user\", \"content\": \"\"\"By 31 December 2010 and, thereafter, at least every three years, the Commission shall review the provisions concerning its implementing powers and present a report to the European Parliament and to the Council on the functioning of those powers. The report shall examine, in particular, the need for the Commission to propose amendments to this Directive in order to ensure the appropriate scope of the implementing powers conferred on the Commission. The conclusion as to whether or not an amendment is necessary shall be accompanied by a detailed statement of reasons. If necessary, the report shall be accompanied by a legislative proposal to amend the provisions conferring implementing powers on the Commission.\"\"\"},\n",
    "    {\"role\": \"system\", \"content\": \"\"\"{\n",
    "    \"addresser\": [\"the commission\"],\n",
    "    \"Action\": [\"present\"],\n",
    "    \"ActionResult\": [\"a report on the functioning of those powers\"],\n",
    "    \"addressee\": [\"the european parliament\", \"the council\"],\n",
    "    \"Date\": [\"By 31 December 2010\"]\n",
    "    }\"\"\"},\n",
    "    \n",
    "     {\"role\": \"user\", \"content\": \"\"\"Member States shall communicate to the Commission the texts of the main provisions of national law which they adopt in the field governed by this Directive.\"\"\"},\n",
    "    {\"role\": \"system\", \"content\": \"\"\"{\n",
    "    \"addresser\": [\"member states\"],\n",
    "    \"Action\": [\"communicate\"],\n",
    "    \"ActionResult\": [\"the texts of the main provisions of national law\"],\n",
    "    \"addressee\": [\"the Commission\"],\n",
    "    \"Date\": [\"None\"]\n",
    "    }\"\"\"},\n",
    "    \n",
    "     {\"role\": \"user\", \"content\": \"\"\"Upon reasoned request, Member States shall forthwith communicate the reports referred to in Article 111(3) to the competent authorities of another Member State.\"\"\"},\n",
    "    {\"role\": \"system\", \"content\": \"\"\"{\n",
    "    \"addresser\": [\"Member States\"],\n",
    "    \"Action\": [\"communicate\"],\n",
    "    \"ActionResult\": [\"the reports referred to in Article 111(3)\"],\n",
    "    \"addressee\": [\"the competent authorities of another Member State\"],\n",
    "    \"Date\": [\"forthwith\"]\n",
    "    }\"\"\"},\n",
    "    \n",
    "    {\"role\": \"user\", \"content\": \"\"\"Each year the sponsor shall submit to the Agency a report on the state of development of the designated medicinal product.\"\"\"},\n",
    "    {\"role\": \"system\", \"content\": \"\"\"{\n",
    "    \"addresser\": [\"the sponsor\"],\n",
    "    \"Action\": [\"submit\"],\n",
    "    \"ActionResult\": [\"a report on the state of development of the designated medicinal product\"],\n",
    "    \"addressee\": [\"the Agency\"],\n",
    "    \"Date\": [\"Each year\"]\n",
    "    }\"\"\"},\n",
    "    \n",
    "    {\"role\": \"user\", \"content\": sentence},\n",
    "]\n",
    ")\n",
    "    return completion.choices[0].message.content\n",
    "\n",
    "def saveToExcelFile(sentences, responses, save_dir, writing_mode = \"w+\"):\n",
    "    df = pd.DataFrame({'Sentence': [sentences], 'Output': [responses]})\n",
    "        # Check if the file exists\n",
    "    filename = \"../data/llm_output/\" + save_dir + \".xlsx\"\n",
    "    if not os.path.exists(filename):\n",
    "        # print('file not existing')\n",
    "        with pd.ExcelWriter(filename, engine='openpyxl') as writer:\n",
    "            df.to_excel(writer, sheet_name='Sheet1', index=False)\n",
    "    else:\n",
    "        # print('file exist')\n",
    "        # Append to the existing file\n",
    "        with pd.ExcelWriter(filename, mode='a', engine='openpyxl', if_sheet_exists='overlay') as writer:\n",
    "            df.to_excel(writer, sheet_name='Sheet1', index=False, header=False, startrow=writer.sheets['Sheet1'].max_row if 'Sheet1' in writer.sheets else 0)\n",
    "            \n",
    "def prompting(sentence, output_filename):\n",
    "    responses = extract_entity(sentence)\n",
    "    saveToExcelFile(sentence, responses, output_filename)\n",
    "    \n",
    "# print(completion.choices[0].message)"
   ]
  },
  {
   "cell_type": "code",
   "execution_count": null,
   "id": "da60e530-3f5d-4078-9c4b-551b684c8827",
   "metadata": {},
   "outputs": [
    {
     "name": "stdout",
     "output_type": "stream",
     "text": [
      "Member States shall communicate to the Commission the text of the main provisions of national law which they adopt in the field covered by this Directive.\n"
     ]
    }
   ],
   "source": [
    "df = pd.read_excel(\"../data/manually_selection.xlsx\", sheet_name = \"Sheet1\")\n",
    "output_log_filename = \"openai_entities_extraction\"\n",
    "df = df[189:-1]\n",
    "print(df.iloc[0]['Sentence'])\n",
    "for _, paragraph in df.iterrows():\n",
    "    requirement = prompting(paragraph['Sentence'], output_log_filename)\n",
    "print(\"### Finish ###\")"
   ]
  }
 ],
 "metadata": {
  "kernelspec": {
   "display_name": "Python 3 (ipykernel)",
   "language": "python",
   "name": "python3"
  },
  "language_info": {
   "codemirror_mode": {
    "name": "ipython",
    "version": 3
   },
   "file_extension": ".py",
   "mimetype": "text/x-python",
   "name": "python",
   "nbconvert_exporter": "python",
   "pygments_lexer": "ipython3",
   "version": "3.9.12"
  }
 },
 "nbformat": 4,
 "nbformat_minor": 5
}
